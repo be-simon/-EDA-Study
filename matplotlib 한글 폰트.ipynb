{
 "cells": [
  {
   "cell_type": "code",
   "execution_count": 1,
   "metadata": {
    "ExecuteTime": {
     "end_time": "2021-11-05T04:01:54.471114Z",
     "start_time": "2021-11-05T04:01:52.637110Z"
    }
   },
   "outputs": [],
   "source": [
    "import seaborn as sns\n",
    "import matplotlib.pyplot as plt\n",
    "\n",
    "import pickle"
   ]
  },
  {
   "cell_type": "code",
   "execution_count": 2,
   "metadata": {
    "ExecuteTime": {
     "end_time": "2021-11-05T04:01:54.554266Z",
     "start_time": "2021-11-05T04:01:54.473264Z"
    }
   },
   "outputs": [],
   "source": [
    "with open('jeju_all.bin', 'rb') as f:\n",
    "    jeju = pickle.load(f)"
   ]
  },
  {
   "cell_type": "code",
   "execution_count": 3,
   "metadata": {
    "ExecuteTime": {
     "end_time": "2021-11-05T04:01:54.589182Z",
     "start_time": "2021-11-05T04:01:54.557599Z"
    }
   },
   "outputs": [
    {
     "data": {
      "text/html": [
       "<div>\n",
       "<style scoped>\n",
       "    .dataframe tbody tr th:only-of-type {\n",
       "        vertical-align: middle;\n",
       "    }\n",
       "\n",
       "    .dataframe tbody tr th {\n",
       "        vertical-align: top;\n",
       "    }\n",
       "\n",
       "    .dataframe thead th {\n",
       "        text-align: right;\n",
       "    }\n",
       "</style>\n",
       "<table border=\"1\" class=\"dataframe\">\n",
       "  <thead>\n",
       "    <tr style=\"text-align: right;\">\n",
       "      <th></th>\n",
       "      <th>OBJECTID</th>\n",
       "      <th>Field1</th>\n",
       "      <th>YM</th>\n",
       "      <th>SIDO</th>\n",
       "      <th>SIGUNGU</th>\n",
       "      <th>FranClass</th>\n",
       "      <th>Type</th>\n",
       "      <th>Time</th>\n",
       "      <th>TotalSpent</th>\n",
       "      <th>DisSpent</th>\n",
       "      <th>...</th>\n",
       "      <th>NumofDisSpent</th>\n",
       "      <th>POINT_X</th>\n",
       "      <th>POINT_Y</th>\n",
       "      <th>lon</th>\n",
       "      <th>lat</th>\n",
       "      <th>lon_lat</th>\n",
       "      <th>dong</th>\n",
       "      <th>Category</th>\n",
       "      <th>dong_cat</th>\n",
       "      <th>Time_cut</th>\n",
       "    </tr>\n",
       "  </thead>\n",
       "  <tbody>\n",
       "    <tr>\n",
       "      <th>278934</th>\n",
       "      <td>278935</td>\n",
       "      <td>278935</td>\n",
       "      <td>202008</td>\n",
       "      <td>제주특별자치도</td>\n",
       "      <td>서귀포시</td>\n",
       "      <td>영세</td>\n",
       "      <td>교육/육아</td>\n",
       "      <td>x</td>\n",
       "      <td>110000</td>\n",
       "      <td>0</td>\n",
       "      <td>...</td>\n",
       "      <td>0</td>\n",
       "      <td>921003.9820</td>\n",
       "      <td>1.476178e+06</td>\n",
       "      <td>126.65174159048293</td>\n",
       "      <td>33.27407883370635</td>\n",
       "      <td>126.65174159048293_33.27407883370635</td>\n",
       "      <td>남원읍</td>\n",
       "      <td>교육/육아</td>\n",
       "      <td>남원읍</td>\n",
       "      <td>무승인거래</td>\n",
       "    </tr>\n",
       "    <tr>\n",
       "      <th>279537</th>\n",
       "      <td>279538</td>\n",
       "      <td>279538</td>\n",
       "      <td>202008</td>\n",
       "      <td>제주특별자치도</td>\n",
       "      <td>서귀포시</td>\n",
       "      <td>영세</td>\n",
       "      <td>생활/기타</td>\n",
       "      <td>x</td>\n",
       "      <td>50000</td>\n",
       "      <td>0</td>\n",
       "      <td>...</td>\n",
       "      <td>0</td>\n",
       "      <td>937500.1674</td>\n",
       "      <td>1.486053e+06</td>\n",
       "      <td>126.82818252032293</td>\n",
       "      <td>33.36422597166204</td>\n",
       "      <td>126.82818252032293_33.36422597166204</td>\n",
       "      <td>성산읍</td>\n",
       "      <td>생활/기타</td>\n",
       "      <td>성산읍</td>\n",
       "      <td>무승인거래</td>\n",
       "    </tr>\n",
       "    <tr>\n",
       "      <th>279784</th>\n",
       "      <td>279785</td>\n",
       "      <td>279785</td>\n",
       "      <td>202008</td>\n",
       "      <td>제주특별자치도</td>\n",
       "      <td>제주시</td>\n",
       "      <td>영세</td>\n",
       "      <td>여행/숙박</td>\n",
       "      <td>x</td>\n",
       "      <td>17470</td>\n",
       "      <td>0</td>\n",
       "      <td>...</td>\n",
       "      <td>0</td>\n",
       "      <td>941114.0531</td>\n",
       "      <td>1.503713e+06</td>\n",
       "      <td>126.86586853032782</td>\n",
       "      <td>33.52371304945294</td>\n",
       "      <td>126.86586853032782_33.52371304945294</td>\n",
       "      <td>구좌읍</td>\n",
       "      <td>여행/숙박</td>\n",
       "      <td>구좌읍</td>\n",
       "      <td>무승인거래</td>\n",
       "    </tr>\n",
       "  </tbody>\n",
       "</table>\n",
       "<p>3 rows × 21 columns</p>\n",
       "</div>"
      ],
      "text/plain": [
       "        OBJECTID  Field1      YM     SIDO SIGUNGU FranClass   Type Time  \\\n",
       "278934    278935  278935  202008  제주특별자치도    서귀포시        영세  교육/육아    x   \n",
       "279537    279538  279538  202008  제주특별자치도    서귀포시        영세  생활/기타    x   \n",
       "279784    279785  279785  202008  제주특별자치도     제주시        영세  여행/숙박    x   \n",
       "\n",
       "        TotalSpent  DisSpent  ...  NumofDisSpent      POINT_X       POINT_Y  \\\n",
       "278934      110000         0  ...              0  921003.9820  1.476178e+06   \n",
       "279537       50000         0  ...              0  937500.1674  1.486053e+06   \n",
       "279784       17470         0  ...              0  941114.0531  1.503713e+06   \n",
       "\n",
       "                       lon                lat  \\\n",
       "278934  126.65174159048293  33.27407883370635   \n",
       "279537  126.82818252032293  33.36422597166204   \n",
       "279784  126.86586853032782  33.52371304945294   \n",
       "\n",
       "                                     lon_lat dong Category dong_cat Time_cut  \n",
       "278934  126.65174159048293_33.27407883370635  남원읍    교육/육아      남원읍    무승인거래  \n",
       "279537  126.82818252032293_33.36422597166204  성산읍    생활/기타      성산읍    무승인거래  \n",
       "279784  126.86586853032782_33.52371304945294  구좌읍    여행/숙박      구좌읍    무승인거래  \n",
       "\n",
       "[3 rows x 21 columns]"
      ]
     },
     "execution_count": 3,
     "metadata": {},
     "output_type": "execute_result"
    }
   ],
   "source": [
    "jeju.tail(3)"
   ]
  },
  {
   "cell_type": "code",
   "execution_count": 57,
   "metadata": {
    "ExecuteTime": {
     "end_time": "2021-11-05T04:45:36.989232Z",
     "start_time": "2021-11-05T04:45:36.976053Z"
    }
   },
   "outputs": [],
   "source": [
    "# 그래프를 좀 더 선명하게\n",
    "%config InlineBackend.figure_format = 'retina'"
   ]
  },
  {
   "cell_type": "markdown",
   "metadata": {},
   "source": [
    "## matplotlib 한글"
   ]
  },
  {
   "cell_type": "code",
   "execution_count": 45,
   "metadata": {
    "ExecuteTime": {
     "end_time": "2021-11-05T04:38:15.080221Z",
     "start_time": "2021-11-05T04:38:15.077519Z"
    }
   },
   "outputs": [],
   "source": [
    "import matplotlib as mpl\n",
    "from matplotlib import font_manager as fm\n",
    "from matplotlib import pyplot as plt\n",
    "from matplotlib import rc"
   ]
  },
  {
   "cell_type": "markdown",
   "metadata": {},
   "source": [
    "### FontProperties\n",
    "* 그래프에서 부분별로 폰트를 적용할 수 있다.\n",
    "* 매번 적용해줘야하는 불편함이 있다."
   ]
  },
  {
   "cell_type": "code",
   "execution_count": 40,
   "metadata": {
    "ExecuteTime": {
     "end_time": "2021-11-05T04:28:32.071047Z",
     "start_time": "2021-11-05T04:28:30.985615Z"
    }
   },
   "outputs": [
    {
     "name": "stderr",
     "output_type": "stream",
     "text": [
      "<ipython-input-40-55ab080e6fcf>:19: MatplotlibDeprecationWarning: Adding an axes using the same arguments as a previous axes currently reuses the earlier instance.  In a future version, a new instance will always be created and returned.  Meanwhile, this warning can be suppressed, and the future behavior ensured, by passing a unique label to each axes instance.\n",
      "  ax = plt.subplot()\n"
     ]
    },
    {
     "data": {
      "image/png": "[encoded data removed]",
      "text/plain": [
       "<Figure size 576x432 with 1 Axes>"
      ]
     },
     "metadata": {
      "image/png": {
       "height": 397,
       "width": 565
      },
      "needs_background": "light"
     },
     "output_type": "display_data"
    }
   ],
   "source": [
    "# 폰트 특성 setup\n",
    "font_path_bitro =  '/Users/simon/Library/Fonts/비트로 코어 OTF.otf'\n",
    "font_path_sc2 = '/Users/simon/Library/Fonts/SCDream2.otf'\n",
    "\n",
    "fp_tick_label = fm.FontProperties(fname=font_path_sc2, size=10)\n",
    "fp_label = fm.FontProperties(fname=font_path_bitro, size=14)\n",
    "fp_title = fm.FontProperties(fname=font_path_bitro, size=18)\n",
    "\n",
    "\n",
    "# 그래프 그리기\n",
    "\n",
    "plt.figure(figsize=(8, 6)) # 가로, 세로, 단위: inch\n",
    "\n",
    "sns.barplot(data=jeju, x='TotalSpent', y='Category')\n",
    "\n",
    "plt.title('카테고리 별 총 소비 합', fontproperties=fp_title)\n",
    "plt.xlabel('총 소비', fontproperties=fp_label)\n",
    "plt.ylabel('카테고리', fontproperties=fp_label)\n",
    "ax = plt.subplot()\n",
    "for label in ax.get_xticklabels():\n",
    "    label.set_fontproperties(fp_tick_label)\n",
    "for label in ax.get_yticklabels():\n",
    "    label.set_fontproperties(fp_tick_label)"
   ]
  },
  {
   "cell_type": "markdown",
   "metadata": {},
   "source": [
    "### rcParams 를 이용해서 전역 범위 설정\n",
    "* 이렇게 하면 노트북의 전역 범위에 적용됨.\n",
    "* 디폴트 값으로 설정 해놓고 쓰면 좋을 듯"
   ]
  },
  {
   "cell_type": "code",
   "execution_count": 46,
   "metadata": {
    "ExecuteTime": {
     "end_time": "2021-11-05T04:39:07.519095Z",
     "start_time": "2021-11-05T04:39:07.516140Z"
    }
   },
   "outputs": [],
   "source": [
    "import matplotlib as mpl\n",
    "from matplotlib import font_manager as fm\n",
    "from matplotlib import pyplot as plt\n",
    "from matplotlib import rc"
   ]
  },
  {
   "cell_type": "code",
   "execution_count": 50,
   "metadata": {
    "ExecuteTime": {
     "end_time": "2021-11-05T04:41:06.344975Z",
     "start_time": "2021-11-05T04:41:06.303273Z"
    }
   },
   "outputs": [],
   "source": [
    "font_list = fm.findSystemFonts()"
   ]
  },
  {
   "cell_type": "code",
   "execution_count": 47,
   "metadata": {
    "ExecuteTime": {
     "end_time": "2021-11-05T04:41:06.344975Z",
     "start_time": "2021-11-05T04:41:06.303273Z"
    }
   },
   "outputs": [],
   "source": [
    "plt.rcParams[\"font.family\"] = \"esamanru OTF\"\n",
    "plt.rcParams['font.size'] = 12\n",
    "plt.rcParams['figure.figsize'] = (8,6)"
   ]
  },
  {
   "cell_type": "code",
   "execution_count": 56,
   "metadata": {
    "ExecuteTime": {
     "end_time": "2021-11-05T04:42:29.832576Z",
     "start_time": "2021-11-05T04:42:29.827546Z"
    }
   },
   "outputs": [
    {
     "name": "stdout",
     "output_type": "stream",
     "text": [
      "/Users/simon/Library/Fonts/esamanru OTF Medium.otf\n"
     ]
    }
   ],
   "source": [
    "# 위 방법도 되고 이렇게 해도 됨.\n",
    "for fp in font_list:\n",
    "    if 'esamanru OTF Medium' in fp:\n",
    "        font_path = fp\n",
    "        print(font_path)\n",
    "font = fm.FontProperties(fname=font_path).get_name()\n",
    "rc('font', family=font)"
   ]
  },
  {
   "cell_type": "markdown",
   "metadata": {},
   "source": [
    "### 노트북 자체 설정에 적용하기\n",
    "* 노트북을 껐다가 실행할 때 자동으로 적용\n",
    "* 모든 노트북에 공통으로 적용됨"
   ]
  },
  {
   "cell_type": "code",
   "execution_count": 44,
   "metadata": {
    "ExecuteTime": {
     "end_time": "2021-11-05T04:34:29.151268Z",
     "start_time": "2021-11-05T04:34:29.146885Z"
    }
   },
   "outputs": [
    {
     "data": {
      "text/plain": [
       "'/Users/simon/anaconda3/lib/python3.8/site-packages/matplotlib/mpl-data/matplotlibrc'"
      ]
     },
     "execution_count": 44,
     "metadata": {},
     "output_type": "execute_result"
    }
   ],
   "source": [
    "# matplotlib 설정파일의 경로\n",
    "matplotlib.matplotlib_fname()"
   ]
  },
  {
   "cell_type": "markdown",
   "metadata": {},
   "source": [
    "1. 위 설정파일 경로로 이동해서 ctrl-F / cmd-F 로 font.family를 찾는다.\n",
    "2. 설정하고 싶은 폰트 이름으로 대체한다.\n",
    "\n",
    "___이름 뒤에 ttf나 otf는 빼고 쓸 것___\n"
   ]
  },
  {
   "cell_type": "markdown",
   "metadata": {
    "ExecuteTime": {
     "end_time": "2021-11-05T04:45:48.157348Z",
     "start_time": "2021-11-05T04:45:48.154882Z"
    }
   },
   "source": [
    "### 잘 안되는 경우"
   ]
  },
  {
   "cell_type": "code",
   "execution_count": 67,
   "metadata": {
    "ExecuteTime": {
     "end_time": "2021-11-05T04:51:25.159027Z",
     "start_time": "2021-11-05T04:51:25.155433Z"
    }
   },
   "outputs": [
    {
     "name": "stdout",
     "output_type": "stream",
     "text": [
      "<Font 'esamanru OTF' (esamanru OTF Light.otf) normal normal 300 normal>\n",
      "<Font 'esamanru OTF' (esamanru OTF Bold.otf) normal normal 700 normal>\n",
      "<Font 'esamanru OTF' (esamanru OTF Medium.otf) normal normal 500 normal>\n"
     ]
    }
   ],
   "source": [
    "for f in fm.fontManager.ttflist:\n",
    "    if 'esamanru OTF' in f.fname:\n",
    "        print(f)"
   ]
  },
  {
   "cell_type": "code",
   "execution_count": 59,
   "metadata": {
    "ExecuteTime": {
     "end_time": "2021-11-05T04:46:05.462103Z",
     "start_time": "2021-11-05T04:46:04.948398Z"
    }
   },
   "outputs": [],
   "source": [
    "# 위에서 폰트 매니저에 원하는 폰트가 없으면\n",
    "# 폰트 매니저 새로고침 해보기\n",
    "fm._rebuild()"
   ]
  },
  {
   "cell_type": "code",
   "execution_count": 60,
   "metadata": {
    "ExecuteTime": {
     "end_time": "2021-11-05T04:46:20.977999Z",
     "start_time": "2021-11-05T04:46:20.974248Z"
    }
   },
   "outputs": [
    {
     "data": {
      "text/plain": [
       "'/Users/simon/.matplotlib'"
      ]
     },
     "execution_count": 60,
     "metadata": {},
     "output_type": "execute_result"
    }
   ],
   "source": [
    "# matplotlib 캐시 경로\n",
    "matplotlib.get_cachedir()"
   ]
  },
  {
   "cell_type": "markdown",
   "metadata": {},
   "source": [
    "* 위 경로로 가서 캐시 파일 삭제, json 파일도 삭제\n",
    "* 노트북 재시동\n",
    "* 그래도 안되면 폰트 이름이 제대로 됐는지 확인하기."
   ]
  },
  {
   "cell_type": "code",
   "execution_count": null,
   "metadata": {},
   "outputs": [],
   "source": []
  }
 ],
 "metadata": {
  "kernelspec": {
   "display_name": "Python 3",
   "language": "python",
   "name": "python3"
  },
  "language_info": {
   "codemirror_mode": {
    "name": "ipython",
    "version": 3
   },
   "file_extension": ".py",
   "mimetype": "text/x-python",
   "name": "python",
   "nbconvert_exporter": "python",
   "pygments_lexer": "ipython3",
   "version": "3.8.5"
  },
  "toc": {
   "base_numbering": 1,
   "nav_menu": {},
   "number_sections": true,
   "sideBar": true,
   "skip_h1_title": false,
   "title_cell": "Table of Contents",
   "title_sidebar": "Contents",
   "toc_cell": false,
   "toc_position": {},
   "toc_section_display": true,
   "toc_window_display": false
  }
 },
 "nbformat": 4,
 "nbformat_minor": 5
}
